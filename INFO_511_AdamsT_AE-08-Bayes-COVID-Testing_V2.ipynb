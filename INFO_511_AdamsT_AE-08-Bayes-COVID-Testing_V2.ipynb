{
 "cells": [
  {
   "cell_type": "markdown",
   "metadata": {},
   "source": [
    "INFO_511_ Application Exercise 08: Bayes-COVID-Testing\n",
    "Author: Todd Adams\n",
    "Date: 2023-10-02\n",
    "Description: We are reviewing Bayes Theorem.\n",
    "Note: I used VS Code and to help me complete this AE."
   ]
  },
  {
   "cell_type": "markdown",
   "metadata": {},
   "source": [
    "1. Substitue the Given Values:\n",
    "Sensitivity: P(T|D) = 0.087\n",
    "Specificity: P(Tc|Dc) = 0.642\n",
    "Prevalence: P(D) = 0.998 for people >= 10 y/o.\n",
    "\n",
    "2. Calculate the Complementary Probabilities  \n",
    "Probability of a positive test given no disease  \n",
    "P(T|Dc) = 1-P(Tc|Dc) = 1-0.998 = 0.002  \n",
    "\n",
    "Probabiliy of not having the disease  \n",
    "P(Dc) = 1-P(D) = 1 - 0.087 = 0.913\n",
    "\n",
    "3. Calculate the Probability of a Positive Test P(T):\n",
    "P(T) = P(T|D) * P(D) + P(T|Dc) * P(Dc)\n",
    "(0.642 * 0.087) + (0.00 * 0.913) = 0.0768\n",
    "\n",
    "4. Calculate the Posterior Probability P(D|T)\n",
    "0.05768/0.055854 =~ 0.968\n"
   ]
  },
  {
   "cell_type": "markdown",
   "metadata": {},
   "source": [
    "Discussion Questions:\n",
    "1. Is this Calculation Surprising? Considering the sensitivity, specificity, and prevalence, is the \n",
    "    high probability of having the disease given a positive test result unexpected? Why or why not?  \n",
    "\n",
    "    The concerns are Type 1 vs. Type 2 errors. Given the high specificity of the test,  \n",
    "    false positives (type 1) should be low and the tests are accurate.\n",
    "\n",
    "2. What is the explanation? Explain why the probability of having the disease given a positive test result is so high. \n",
    "    Consider the impact of sensitivity, specificity, and prevalence.  \n",
    "\n",
    "    Posterior probability is the later outcome, given new information. The high specificity but moderate sensitivity  \n",
    "    suggests that this test rules out type 2 errors.\n",
    "\n",
    "3. Was this calculation actually reasonable to perform? Discuss whether it is reasonable to calculate the probability  \n",
    "     of having the disease based on the given data. Are there any limitations or assumptions in this calculation?\n",
    "\n",
    "     It's difficult to say whether this is reasonable. More would need to be known about the data source and collection methods.\n",
    "\n",
    "4.  What if we tested in a different population, such as high-risk individuals? How might the probability of having the disease  \n",
    "    given a positive test result change if the test was administered to a population with a higher prevalence of COVID-19?\n",
    "\n",
    "    The higher the prevalence, the higher the posterior prevalence.\n",
    "\n",
    "5.  What if we were to test a random individual in a county where the prevalence of COVID-19 is approximately 25%?  \n",
    "    Recalculate the probability of having the disease given a positive test result for a population with a 25% prevalence of COVID-19.  \n",
    "    How does this compare to the original calculation?\n",
    "\n",
    "    P(T)=(0.642 * 0.25) + (0.002 * 0.75) = 0.162\n",
    "\n"
   ]
  }
 ],
 "metadata": {
  "language_info": {
   "name": "python"
  }
 },
 "nbformat": 4,
 "nbformat_minor": 2
}
